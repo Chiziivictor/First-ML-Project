{
 "cells": [
  {
   "cell_type": "code",
   "execution_count": 1,
   "id": "2b365aaa-6b90-4379-b062-54746f991b3d",
   "metadata": {},
   "outputs": [],
   "source": [
    "import numpy as np\n",
    "import pandas as pd\n",
    "import matplotlib.pyplot as plt\n",
    "from sklearn.model_selection import train_test_split\n",
    "from sklearn.linear_model import LinearRegression\n",
    "import sklearn.metrics"
   ]
  },
  {
   "cell_type": "code",
   "execution_count": 2,
   "id": "70f0739e-9db4-4b11-8c30-cb93739d6ccb",
   "metadata": {},
   "outputs": [],
   "source": [
    "\n",
    "# import the dataset\n",
    "student_data = pd.read_csv('students_scores.csv')\n",
    "#print(student_data)\n",
    "\n",
    "# Assigning values to the independent and dependent variables X and Y respectively\n",
    "X = student_data['Student Score']\n",
    "Y = student_data['Intelligence Score']"
   ]
  },
  {
   "cell_type": "code",
   "execution_count": 3,
   "id": "b1f4ff89-9b40-4c70-bd14-f907b2d6b2b1",
   "metadata": {},
   "outputs": [],
   "source": [
    "# spliiting the dataset into train and test\n",
    "X_train, X_test, Y_train, Y_test = train_test_split(X, Y, test_size=0.25, random_state=0)\n",
    "\n",
    "# reshaping the datasets\n",
    "X_train = X_train.values.reshape(-1, 1)\n",
    "Y_train = Y_train.values.reshape(-1, 1)\n",
    "X_test = X_test.values.reshape(-1, 1)\n",
    "Y_test = Y_test.values.reshape(-1, 1)\n",
    "\n",
    "model = LinearRegression()\n",
    "model.fit(X_train, Y_train)\n",
    "\n",
    "Y_predict = model.predict(X_test)\n",
    "# print(Y_predict)"
   ]
  },
  {
   "cell_type": "code",
   "execution_count": 4,
   "id": "c6e3902a-72b3-435b-a3de-1c1a1849b092",
   "metadata": {},
   "outputs": [
    {
     "name": "stdout",
     "output_type": "stream",
     "text": [
      "Below are Some Statistical Analysis to Evaluate the Accuracy of the Model\n",
      "\n",
      "Explained Variance Score:  0.84\n",
      "Mean Absolute Error:  0.50\n",
      "Mean squared Error:  0.38\n",
      "R-squared:  0.82\n"
     ]
    }
   ],
   "source": [
    "# Evaluating the accuracy of model using different statistical analysis\n",
    "print('Below are Some Statistical Analysis to Evaluate the Accuracy of the Model\\n')\n",
    "print('Explained Variance Score: ','{:.2f}'.format(sklearn.metrics.explained_variance_score(Y_test, Y_predict)))\n",
    "print('Mean Absolute Error: ', '{:.2f}'.format(sklearn.metrics.mean_absolute_error(Y_test, Y_predict)))\n",
    "print('Mean squared Error: ', '{:.2f}'.format(sklearn.metrics.mean_squared_error(Y_test, Y_predict)))\n",
    "print('R-squared: ', '{:.2f}'.format(sklearn.metrics.r2_score(Y_test, Y_predict)))"
   ]
  },
  {
   "cell_type": "code",
   "execution_count": 5,
   "id": "d20e1fa6-bf25-4324-96f4-5cee2c38aab5",
   "metadata": {},
   "outputs": [
    {
     "name": "stdout",
     "output_type": "stream",
     "text": [
      "    Student Score  | Actual Intelligence Score  | Predicted Intelligence Score\n",
      "0              82                            8                        7.630545\n",
      "1              59                            5                        5.422225\n",
      "2              58                            6                        5.326211\n",
      "3              53                            5                        4.846142\n",
      "4              79                            8                        7.342503\n",
      "5              40                            4                        3.597961\n",
      "6              74                            6                        6.862434\n",
      "7              37                            3                        3.309919\n",
      "8              75                            6                        6.958448\n",
      "9              36                            3                        3.213905\n",
      "10             50                            4                        4.558100\n",
      "11             92                            7                        8.590684\n",
      "12             62                            6                        5.710267\n",
      "13             69                            6                        6.382364\n",
      "14             66                            6                        6.094322\n",
      "15             98                            9                        9.166767\n",
      "16             79                            6                        7.342503\n",
      "17             50                            5                        4.558100\n",
      "18             68                            6                        6.286350\n",
      "19             49                            4                        4.462086\n",
      "20             52                            5                        4.750128\n",
      "21             79                            7                        7.342503\n",
      "22             79                            7                        7.342503\n",
      "23             60                            6                        5.518239\n",
      "24             49                            5                        4.462086\n"
     ]
    }
   ],
   "source": [
    "\n",
    "# Comparing the Predicted Intelligence Scores and Actual Intelligence Scores\n",
    "prediction = pd.DataFrame(data=X_test, columns = ['Student Score'])\n",
    "prediction['| Actual Intelligence Score'] = Y_test\n",
    "prediction['| Predicted Intelligence Score'] = Y_predict\n",
    "print(prediction)\n",
    "\n",
    "#print(type(prediction))"
   ]
  },
  {
   "cell_type": "code",
   "execution_count": 6,
   "id": "78868853-d3da-45b9-978e-ee88bfd02387",
   "metadata": {},
   "outputs": [
    {
     "data": {
      "image/png": "[encoded data removed]",
      "text/plain": [
       "<Figure size 432x288 with 1 Axes>"
      ]
     },
     "metadata": {
      "needs_background": "light"
     },
     "output_type": "display_data"
    }
   ],
   "source": [
    "# Visualizing the test dataset\n",
    "plt.scatter(X_test, Y_test, color='b')\n",
    "plt.plot(X_test, Y_predict, color='red', marker='^')\n",
    "plt.title('Predicted Intelligence Score vs Student Score (Test Dataset)')\n",
    "plt.xlabel('Student Score')\n",
    "plt.ylabel('Predicted Intelligence Score')\n",
    "\n",
    "plt.show()"
   ]
  },
  {
   "cell_type": "code",
   "execution_count": 7,
   "id": "b8e76f27-7ba3-47c2-969a-2fcd614438e7",
   "metadata": {},
   "outputs": [
    {
     "data": {
      "image/png": "[encoded data removed]",
      "text/plain": [
       "<Figure size 432x288 with 1 Axes>"
      ]
     },
     "metadata": {
      "needs_background": "light"
     },
     "output_type": "display_data"
    }
   ],
   "source": [
    "# Visualizing the train dataset\n",
    "plt.scatter(X_train, Y_train, color='m')\n",
    "plt.plot(X_train, model.predict(X_train), color='green', marker='^')\n",
    "plt.title('Intelligence Score vs Student Score (Train Dataset)')\n",
    "plt.xlabel('Student Score')\n",
    "plt.ylabel('Intelligence Score')\n",
    "\n",
    "plt.show()"
   ]
  },
  {
   "cell_type": "code",
   "execution_count": null,
   "id": "5f7f83ac-94bf-4cd3-a372-85c925b50c4f",
   "metadata": {},
   "outputs": [],
   "source": []
  }
 ],
 "metadata": {
  "kernelspec": {
   "display_name": "Python 3",
   "language": "python",
   "name": "python3"
  },
  "language_info": {
   "codemirror_mode": {
    "name": "ipython",
    "version": 3
   },
   "file_extension": ".py",
   "mimetype": "text/x-python",
   "name": "python",
   "nbconvert_exporter": "python",
   "pygments_lexer": "ipython3",
   "version": "3.8.8"
  }
 },
 "nbformat": 4,
 "nbformat_minor": 5
}
